{
 "cells": [
  {
   "cell_type": "code",
   "execution_count": 1,
   "metadata": {},
   "outputs": [],
   "source": [
    "from fontTools.ttLib import TTFont\n",
    "\n",
    "font = TTFont('SourceHanSans-Regular.otf')\n",
    "glyph_set = font.getGlyphSet()  # {グリフ名: グリフ} っぽいオブジェクト\n",
    "cmap = font.getBestCmap()       # {Unicode: グリフ名}"
   ]
  },
  {
   "cell_type": "code",
   "execution_count": 2,
   "metadata": {},
   "outputs": [],
   "source": [
    "def get_glyph(glyph_set, cmap, char):\n",
    "    glyph_name = cmap[ord(char)]\n",
    "    return glyph_set[glyph_name]"
   ]
  },
  {
   "cell_type": "code",
   "execution_count": 3,
   "metadata": {},
   "outputs": [
    {
     "data": {
      "text/plain": [
       "<fontTools.ttLib._TTGlyphCFF at 0x114c91470>"
      ]
     },
     "execution_count": 3,
     "metadata": {},
     "output_type": "execute_result"
    }
   ],
   "source": [
    "L = get_glyph(glyph_set, cmap, 'L')\n",
    "L"
   ]
  },
  {
   "cell_type": "markdown",
   "metadata": {},
   "source": [
    "## RecordingPen"
   ]
  },
  {
   "cell_type": "code",
   "execution_count": 4,
   "metadata": {},
   "outputs": [
    {
     "data": {
      "text/plain": [
       "[('moveTo', ((100, 0),)),\n",
       " ('lineTo', ((513, 0),)),\n",
       " ('lineTo', ((513, 79),)),\n",
       " ('lineTo', ((193, 79),)),\n",
       " ('lineTo', ((193, 733),)),\n",
       " ('lineTo', ((100, 733),)),\n",
       " ('closePath', ())]"
      ]
     },
     "execution_count": 4,
     "metadata": {},
     "output_type": "execute_result"
    }
   ],
   "source": [
    "from fontTools.pens.recordingPen import RecordingPen\n",
    "\n",
    "recording_pen = RecordingPen()\n",
    "L.draw(recording_pen)\n",
    "recording_pen.value"
   ]
  },
  {
   "cell_type": "code",
   "execution_count": 5,
   "metadata": {},
   "outputs": [
    {
     "data": {
      "text/plain": [
       "[('moveTo', ((226, 696),)),\n",
       " ('lineTo', ((130, 698),)),\n",
       " ('curveTo', ((135, 674), (136, 633), (136, 610))),\n",
       " ('curveTo', ((136, 552), (137, 432), (147, 346))),\n",
       " ('curveTo', ((174, 89), (264, -4), (357, -4))),\n",
       " ('curveTo', ((425, -4), (486, 53), (545, 221))),\n",
       " ('lineTo', ((482, 293),)),\n",
       " ('curveTo', ((456, 193), (410, 91), (359, 91))),\n",
       " ('curveTo', ((289, 91), (241, 200), (225, 366))),\n",
       " ('curveTo', ((218, 447), (217, 538), (218, 600))),\n",
       " ('curveTo', ((219, 626), (222, 672), (226, 696))),\n",
       " ('closePath', ()),\n",
       " ('moveTo', ((742, 669),)),\n",
       " ('lineTo', ((664, 642),)),\n",
       " ('curveTo', ((758, 526), (818, 330), (835, 152))),\n",
       " ('lineTo', ((916, 184),)),\n",
       " ('curveTo', ((902, 351), (831, 554), (742, 669))),\n",
       " ('closePath', ())]"
      ]
     },
     "execution_count": 5,
     "metadata": {},
     "output_type": "execute_result"
    }
   ],
   "source": [
    "い = get_glyph(glyph_set, cmap, 'い')\n",
    "recording_pen = RecordingPen()\n",
    "い.draw(recording_pen)\n",
    "recording_pen.value"
   ]
  },
  {
   "cell_type": "markdown",
   "metadata": {},
   "source": [
    "## SVGPathPen"
   ]
  },
  {
   "cell_type": "code",
   "execution_count": 6,
   "metadata": {},
   "outputs": [
    {
     "data": {
      "text/plain": [
       "'M100 0H513V79H193V733H100Z'"
      ]
     },
     "execution_count": 6,
     "metadata": {},
     "output_type": "execute_result"
    }
   ],
   "source": [
    "from fontTools.pens.svgPathPen import SVGPathPen\n",
    "\n",
    "svg_path_pen = SVGPathPen(glyph_set)\n",
    "L.draw(svg_path_pen)\n",
    "svg_path_pen.getCommands()"
   ]
  },
  {
   "cell_type": "code",
   "execution_count": 7,
   "metadata": {},
   "outputs": [],
   "source": [
    "with open('L1.svg', 'w') as f:\n",
    "    f.write('<svg xmlns=\"http://www.w3.org/2000/svg\" viewBox=\"0 0 1000 1000\">\\n')\n",
    "    f.write(f'    <path d=\"{svg_path_pen.getCommands()}\"/>\\n')\n",
    "    f.write('</svg>\\n')"
   ]
  },
  {
   "cell_type": "code",
   "execution_count": 8,
   "metadata": {},
   "outputs": [
    {
     "data": {
      "text/html": [
       "<img src=\"L1.svg\" style=\"height: 200px\">"
      ],
      "text/plain": [
       "<IPython.core.display.HTML object>"
      ]
     },
     "metadata": {},
     "output_type": "display_data"
    }
   ],
   "source": [
    "%%html\n",
    "<img src=\"L1.svg\" style=\"height: 200px\">"
   ]
  },
  {
   "cell_type": "code",
   "execution_count": 9,
   "metadata": {},
   "outputs": [],
   "source": [
    "with open('L2.svg', 'w') as f:\n",
    "    f.write('<svg xmlns=\"http://www.w3.org/2000/svg\" viewBox=\"0 -1000 1000 1000\">\\n')\n",
    "    f.write(f'    <path d=\"{svg_path_pen.getCommands()}\" transform=\"scale(1, -1)\"/>\\n')\n",
    "    f.write('</svg>\\n')"
   ]
  },
  {
   "cell_type": "code",
   "execution_count": 10,
   "metadata": {},
   "outputs": [
    {
     "data": {
      "text/html": [
       "<img src=\"L2.svg\" style=\"height: 200px\">"
      ],
      "text/plain": [
       "<IPython.core.display.HTML object>"
      ]
     },
     "metadata": {},
     "output_type": "display_data"
    }
   ],
   "source": [
    "%%html\n",
    "<img src=\"L2.svg\" style=\"height: 200px\">"
   ]
  },
  {
   "cell_type": "code",
   "execution_count": 11,
   "metadata": {},
   "outputs": [],
   "source": [
    "from textwrap import dedent\n",
    "\n",
    "def save_as_svg(font, char, output_path):\n",
    "    '''TTFont オブジェクトを受け取り、指定した文字のグリフを SVG として保存する'''\n",
    "    \n",
    "    glyph_set = font.getGlyphSet()\n",
    "    cmap = font.getBestCmap()\n",
    "    \n",
    "    # グリフのアウトラインを SVGPathPen でなぞる\n",
    "    glyph = get_glyph(glyph_set, cmap, char)\n",
    "    svg_path_pen = SVGPathPen(glyph_set)\n",
    "    glyph.draw(svg_path_pen)\n",
    "\n",
    "    # メトリクスを取得\n",
    "    ascender = font['OS/2'].sTypoAscender\n",
    "    descender = font['OS/2'].sTypoDescender\n",
    "    width = glyph.width\n",
    "    height = ascender - descender\n",
    "    \n",
    "    content = dedent(f'''\\\n",
    "        <svg xmlns=\"http://www.w3.org/2000/svg\" viewBox=\"0 {-ascender} {width} {height}\">\n",
    "            <g transform=\"scale(1, -1)\">\n",
    "                <!-- ボディの枠 -->\n",
    "                <rect x=\"0\" y=\"{descender}\" width=\"{width}\" height=\"{height}\"\n",
    "                    stroke=\"cyan\" stroke-width=\"2\" fill=\"none\"/>\n",
    "                <!-- グリフ座標系の原点 -->\n",
    "                <circle cx=\"0\" cy=\"0\" r=\"8\" fill=\"blue\"/>\n",
    "                <!-- グリフのアウトライン -->\n",
    "                <path d=\"{svg_path_pen.getCommands()}\"/>\n",
    "            </g>\n",
    "        </svg>\n",
    "    ''')\n",
    "    \n",
    "    with open(output_path, 'w') as f:\n",
    "        f.write(content)"
   ]
  },
  {
   "cell_type": "code",
   "execution_count": 12,
   "metadata": {},
   "outputs": [],
   "source": [
    "save_as_svg(font, 'L', 'L.svg')\n",
    "save_as_svg(font, 'い', 'い.svg')"
   ]
  },
  {
   "cell_type": "code",
   "execution_count": 13,
   "metadata": {
    "scrolled": false
   },
   "outputs": [
    {
     "data": {
      "text/html": [
       "<img src=\"L.svg\" style=\"height: 200px\">\n",
       "<img src=\"い.svg\" style=\"height: 200px\">"
      ],
      "text/plain": [
       "<IPython.core.display.HTML object>"
      ]
     },
     "metadata": {},
     "output_type": "display_data"
    }
   ],
   "source": [
    "%%html\n",
    "<img src=\"L.svg\" style=\"height: 200px\">\n",
    "<img src=\"い.svg\" style=\"height: 200px\">"
   ]
  }
 ],
 "metadata": {
  "kernelspec": {
   "display_name": "Python 3",
   "language": "python",
   "name": "python3"
  },
  "language_info": {
   "codemirror_mode": {
    "name": "ipython",
    "version": 3
   },
   "file_extension": ".py",
   "mimetype": "text/x-python",
   "name": "python",
   "nbconvert_exporter": "python",
   "pygments_lexer": "ipython3",
   "version": "3.6.3"
  }
 },
 "nbformat": 4,
 "nbformat_minor": 2
}
